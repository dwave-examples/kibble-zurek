{
 "cells": [
  {
   "cell_type": "markdown",
   "id": "75fc25d0-bc95-4c05-9d65-6d76daa61838",
   "metadata": {},
   "source": [
    "# Simulating the Kibble-Zurek Mechanism on a Quantum Computer\n",
    "\n",
    "This notebook demonstrates the use of a quantum computer for ... . It has the following sections:\n",
    "\n",
    "1. [The Kibble-Zurek Mechanism](#The-Kibble-Zurek-Mechanism) describes.\n",
    "2. \n",
    "\n",
    "## The Kibble-Zurek Mechanism\n",
    "\n",
    "The [[1]](#1) Nature paper\n",
    "\n",
    "<img src=\"_static/temp1_kz_overview.png\" width=\"500\">\n",
    "\n",
    "<img src=\"_static/tmp_coherent.png\" width=\"800\">\n",
    "\n",
    "## References\n",
    "\n",
    "<a name=\"1\">[1]</a> King, A.D., Suzuki, S., Raymond, J. et al. \n",
    "Coherent quantum annealing in a programmable 2,000 qubit Ising chain. \n",
    "Nat. Phys. 18, 1324–1328 (2022). https://doi.org/10.1038/s41567-022-01741-6\n"
   ]
  },
  {
   "cell_type": "code",
   "execution_count": null,
   "id": "85332a50",
   "metadata": {},
   "outputs": [],
   "source": [
    "from dwave.system import DWaveSampler\n",
    "import minorminer\n",
    "\n",
    "# TO BE UPDATED: \n",
    "#sampler = DWaveSampler(solver={'topology__type': 'zephyr'})\n",
    "sampler = DWaveSampler(solver=\"Advantage2_prototype2_...\")\n",
    "print(sampler.solver.name)"
   ]
  },
  {
   "cell_type": "code",
   "execution_count": null,
   "id": "634ab7da",
   "metadata": {},
   "outputs": [],
   "source": [
    "from helpers.qa import create_bqm\n",
    "\n",
    "L = 500\n",
    "\n",
    "# Currently using simple minorminer `find_embedding` function\n",
    "bqm = create_bqm(L, coupling_strength=-1)\n",
    "embedding = minorminer.find_embedding(bqm.quadratic, sampler.edgelist)\n",
    "print(max(len(val) for val in embedding.values()) == 1)\n",
    "\n"
   ]
  },
  {
   "cell_type": "code",
   "execution_count": null,
   "id": "292f871e",
   "metadata": {},
   "outputs": [],
   "source": [
    "from dwave.system import FixedEmbeddingComposite\n",
    "# For now define a `placeholder_submission_if` until a formal API exists for such short anneal times\n"
   ]
  },
  {
   "cell_type": "code",
   "execution_count": null,
   "id": "665af37a",
   "metadata": {},
   "outputs": [],
   "source": [
    "times1 = [t for t in range(5, 10, 1)]       # First log section\n",
    "times2 = [t for t in range(10, 100, 10)]    # second\n",
    "times3 = [t for t in range(100, 1000, 200)]\n",
    "\n",
    "Js = [0.12, -0.7, -1.4]\n",
    "\n",
    "sampleset = {}\n",
    "for J in [0.12, -1.4]:\n",
    "    bqm = create_bqm(L, J)\n",
    "    \n",
    "    for ta in [5, 7.5, 10, 20, 30, 40, 50, 100, 200, 500, 750, 1000, 2000, 10000, 50000]:\n",
    "        sampleset[(J, ta)] = placeholder_submission_if({'sampler': sampler, \n",
    "                               'embedding': embedding,\n",
    "                               'bqm': bqm,\n",
    "                               'num_reads': 5000, \n",
    "                               'label': f'{J}: J; {ta} t_a',\n",
    "                               'anneal_time': 0.001*ta})"
   ]
  },
  {
   "cell_type": "code",
   "execution_count": null,
   "id": "e79183bb",
   "metadata": {},
   "outputs": [],
   "source": [
    "from helpers.kb_calcs import avg_kink_density\n",
    "import matplotlib.pyplot as plt\n",
    "\n",
    "results = {}\n",
    "for key, samples in sampleset.items():\n",
    "    results[key] = avg_kink_density(samples)"
   ]
  },
  {
   "cell_type": "code",
   "execution_count": null,
   "id": "4de47050",
   "metadata": {},
   "outputs": [],
   "source": [
    "for J in sorted(set(j for (j,ta) in results.keys())):\n",
    "    results_j = [(ta, val) for (j, ta), val in results.items() if j==J]\n",
    "    plt.plot([ta for (ta, kink) in results_j], [kink for (ta, kink) in results_j], \"*\", label=J)\n",
    "plt.legend()\n",
    "plt.xscale(\"log\")\n",
    "plt.yscale(\"log\")"
   ]
  },
  {
   "cell_type": "markdown",
   "id": "7a178a76",
   "metadata": {},
   "source": [
    "# Appendix: Comparison to Coherent Theory\n",
    "\n",
    "Probably will not be part of this example"
   ]
  },
  {
   "cell_type": "markdown",
   "id": "5178596f",
   "metadata": {},
   "source": [
    "<img src=\"_static/tmp_coherent.png\" width=\"800\">"
   ]
  },
  {
   "cell_type": "code",
   "execution_count": 25,
   "id": "a0133238",
   "metadata": {},
   "outputs": [],
   "source": [
    "import pandas as pd\n",
    "\n",
    "# Temporarily using the standard schedule, must be replaced with new one\n",
    "schedule = pd.read_csv('09-1302A-B_Advantage2_prototype2.2_annealing_schedule.csv')\n",
    "A = schedule['A(s) (GHz)']\n",
    "A_tag = A.diff()/0.001     \n",
    "B = schedule['B(s) (GHz)']\n",
    "B_tag = B.diff()/0.001     "
   ]
  },
  {
   "cell_type": "code",
   "execution_count": 28,
   "id": "09008bdd",
   "metadata": {},
   "outputs": [
    {
     "name": "stdout",
     "output_type": "stream",
     "text": [
      "223\n",
      "223\n",
      "2.014254\n"
     ]
    }
   ],
   "source": [
    "QFP = 2.014\n",
    "\n",
    "print(abs(A - QFP).idxmin())\n",
    "print(abs(B - QFP).idxmin())\n",
    "\n",
    "sc_indx = abs(A - QFP).idxmin()\n",
    "print(A[sc_indx])"
   ]
  },
  {
   "cell_type": "code",
   "execution_count": 48,
   "id": "ac79efa9",
   "metadata": {},
   "outputs": [
    {
     "name": "stdout",
     "output_type": "stream",
     "text": [
      "1.718322814083078e+33\n"
     ]
    }
   ],
   "source": [
    "h_bar = 1.054571817*10**(-34)\n",
    "\n",
    "b_top = A[sc_indx]/h_bar\n",
    "b_bottom = (B_tag[sc_indx]/B[sc_indx]) - (A_tag[sc_indx]/A[sc_indx])\n",
    "b = b_top/b_bottom\n",
    "\n",
    "print(b)"
   ]
  },
  {
   "cell_type": "code",
   "execution_count": 49,
   "id": "22585098",
   "metadata": {},
   "outputs": [
    {
     "data": {
      "image/png": "[encoded data removed]",
      "text/plain": [
       "<Figure size 640x480 with 1 Axes>"
      ]
     },
     "metadata": {},
     "output_type": "display_data"
    }
   ],
   "source": [
    "import numpy as np\n",
    "import matplotlib.pyplot as plt\n",
    "ta = [10**(-9) * ns for ns in[5, 7.5, 10, 20, 30, 40, 50, 100, 200, 500, 750, 1000, 2000, 10000, 50000]]\n",
    "n = np.power(ta, -0.5)/(2*np.pi*np.sqrt(2*b))\n",
    "\n",
    "plt.plot(ta, n, \"*\")\n",
    "plt.yscale(\"log\")\n",
    "plt.xscale(\"log\")"
   ]
  },
  {
   "cell_type": "markdown",
   "id": "d5bffa59",
   "metadata": {},
   "source": [
    "Copyright &copy; 2024 D-Wave Systems, Inc\n",
    "\n",
    "The software is licensed under the Apache License, Version 2.0 (the \"License\");\n",
    "you may not use this file except in compliance with the License.\n",
    "You may obtain a copy of the License at\n",
    "\n",
    "    http://www.apache.org/licenses/LICENSE-2.0\n",
    "\n",
    "Unless required by applicable law or agreed to in writing, software\n",
    "distributed under the License is distributed on an \"AS IS\" BASIS,\n",
    "WITHOUT WARRANTIES OR CONDITIONS OF ANY KIND, either express or implied.\n",
    "See the License for the specific language governing permissions and\n",
    "limitations under the License.\n",
    "\n",
    "<a rel=\"license\" href=\"http://creativecommons.org/licenses/by-nc-sa/4.0/\"><img alt=\"Creative Commons License\" style=\"border-width:0\" src=\"https://i.creativecommons.org/l/by-nc-sa/4.0/88x31.png\" /></a><br />This Jupyter Notebook is licensed under a <a rel=\"license\" href=\"http://creativecommons.org/licenses/by-nc-sa/4.0/\">Creative Commons Attribution-NonCommercial-ShareAlike 4.0 International License</a>"
   ]
  }
 ],
 "metadata": {
  "kernelspec": {
   "display_name": "Python 3 (ipykernel)",
   "language": "python",
   "name": "python3"
  },
  "language_info": {
   "codemirror_mode": {
    "name": "ipython",
    "version": 3
   },
   "file_extension": ".py",
   "mimetype": "text/x-python",
   "name": "python",
   "nbconvert_exporter": "python",
   "pygments_lexer": "ipython3",
   "version": "3.10.2"
  }
 },
 "nbformat": 4,
 "nbformat_minor": 5
}
